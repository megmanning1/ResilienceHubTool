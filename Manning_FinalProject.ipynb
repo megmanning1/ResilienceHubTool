{
 "cells": [
  {
   "cell_type": "markdown",
   "metadata": {},
   "source": [
    "# <u>Sea Level Rise Inundation Tool </u>\n",
    "\n",
    "#### Meg Manning -- *Duke University, Fall 2024*\n",
    "\n",
    "► **Description:** this script can be used to identify an area in the coastal plain of North Carolina and assess it's risk to sea level rise. This tool creates three layers of inundation under 1ft, 2ft, and 3ft of SLR. Methods for forecasting sea level rise inundation were taken from the National Oceanic and Atmospheric detailed methology for sea level rise inundation (NOAA, 2017). A threat index tool is in the process of being built to consider different environmental factors, coupled with SLR, including storm surge of category 1-5 hurricanes, flood prone areas, soil erodibility, drainage, and areas of low slope. This tool will use the National Fish and Wildlife Service's Coastal Resilience and Siting Tool (CREST) methodology for calculations (Dobson et al., 2019)."
   ]
  },
  {
   "cell_type": "markdown",
   "metadata": {},
   "source": [
    "### 1. Digital Elevation Model from LiDAR \n",
    "\n",
    "*Download LiDAR point data and process into a 1m DEM.*\n",
    "\n",
    "#### Since there is no API for a direct download of LiDAR point data, in order to process the entire tool, data must be downloaded following these steps *prior* to running the rest of this script. \n",
    "\n",
    "<u> Step 1: Download LiDAR Data </u> \n",
    "\n",
    "Click the link below to open the Digital Coast Topobathy LiDAR Web Interface: https://coast.noaa.gov/dataviewer/#/lidar/search/ \n",
    "\n",
    "<u>Step 1.1:</u> Zoom in to a scale of at least 1000ft, if not 500ft, and draw a box around the area of interest\n",
    "\n",
    "<u>Step 1.2:</u> In the panel on the right, select the most recent *point* data that corresponds to the area of interest\n",
    "\n",
    "<u>Step 1.3:</u> Click \"Add to Cart\" \n",
    "\n",
    "<u>Step 1.4:</u> In your cart, set the following parameters for your point data:\n",
    "* Projection = UTM\n",
    "* Zone = Zone 18 Range 078W-072W\n",
    "* Horizontal Datum = NAD83\n",
    "* Horizontal Units = Meters\n",
    "* Vertical Datum = NADV88\n",
    "* Vertical Units = Meters\n",
    "* Output Product = Point\n",
    "* Output Format = Points - LAS\n",
    "* Data Classes = Ground \n",
    "\n",
    "<u>Step 1.5:</u> Click next, add email, review and submit\n",
    "\n",
    "*It may take a few minutes for the data to process but you will recieve an email with the link to download the data. Once it downloads, extract the data to your machine and note the file path.*\n",
    "\n",
    "<u> Step 2: Process into a 1m DEM</u> "
   ]
  },
  {
   "cell_type": "code",
   "execution_count": 1,
   "metadata": {},
   "outputs": [],
   "source": [
    "# Load Necessary Packages\n",
    "import arcpy\n",
    "import os\n",
    "from arcpy.ia import *\n",
    "from arcpy.sa import *\n",
    "\n",
    "# Set the workspace \n",
    "#output_directory = arcpy.GetParameterAsText(0)\n",
    "output_directory = arcpy.env.workspace = \"z:\\MP\\Scratch\" # THIS NEEDS TO BE USER INPUT\n",
    "arcpy.env.overwriteOutput = True"
   ]
  },
  {
   "cell_type": "code",
   "execution_count": 8,
   "metadata": {},
   "outputs": [],
   "source": [
    "# Define LAS data and LAS dataset paths \n",
    "# las_folder = arcpy.GetParameterAsText(1) \n",
    "# las_dataset = arcpy.GetParameterAsText(2) \n",
    "las_folder = \"z://MP//DATA//Lidar//nc2019_dunex_Job1104540\"\n",
    "las_dataset = \"z://MP//DATA//Lidar//nc2019_dunex_Job1104540//nc2019_dunex_Job1104540.lasd\"\n",
    "\n",
    "# Create a LAS Dataset using Create LAS Dataset Tool \n",
    "arcpy.management.CreateLasDataset(las_folder, las_dataset)\n",
    "arcpy.AddMessage(f\"LAS Dataset successfully created.\")"
   ]
  },
  {
   "cell_type": "code",
   "execution_count": 10,
   "metadata": {},
   "outputs": [],
   "source": [
    "# Define output raster (DEM) path \n",
    "ground_DEM_output = output_directory + \"DEM_1m.tif\""
   ]
  },
  {
   "cell_type": "code",
   "execution_count": 11,
   "metadata": {},
   "outputs": [],
   "source": [
    "# Create 1m DEM using LAS Dataset to Raster tool \n",
    "DEM_1m = arcpy.conversion.LasDatasetToRaster(las_dataset, ground_DEM_output, \n",
    "                                    'ELEVATION', \n",
    "                                    'BINNING AVERAGE LINEAR', \n",
    "                                    'FLOAT', \n",
    "                                    'CELLSIZE', 1, 1)"
   ]
  },
  {
   "cell_type": "markdown",
   "metadata": {},
   "source": [
    "### 2. Tidal Variability Surface Using Vertical Datum Tool\n",
    "\n",
    "*Use DEM created above to create a tidal surface raster that shows the tidal fluctuations at the area of interest. Once this is created then sea level rise inundation can be calculated.*\n",
    "\n",
    "https://vdatum.noaa.gov/docs/services.html#step120"
   ]
  },
  {
   "cell_type": "code",
   "execution_count": null,
   "metadata": {},
   "outputs": [],
   "source": [
    "# Create Points from DEM to input into VDatum tool to get conversion from MHHW into NAVD88\n",
    "\n",
    "# Raster to Point - set local variables \n",
    "in_DEM = DEM_1m\n",
    "out_point_features = 'DEM_points.shp'\n",
    "field = \"VALUE\"\n",
    "\n",
    "# Run the tool\n",
    "# arcpy.conversion.RasterToPoint(in_DEM, out_point_features, field)\n",
    "\n",
    "#IS THERE AN EASIER WAY TO DO THIS?"
   ]
  },
  {
   "cell_type": "markdown",
   "metadata": {},
   "source": [
    "### 3. Inundation Extent under 1-3ft SLR\n",
    "\n",
    "*Use both the DEM in step 1 and the tidal variabliity surface in step 2 to model the desired amount of sea level rise at 1 meter resolution on top of the area of interest. For detailed methods see Detailed Method for Mapping Sea Level Rise Inundation (NOAA, 2017).*"
   ]
  },
  {
   "cell_type": "markdown",
   "metadata": {},
   "source": [
    "<u> Iterate through sea level rise of 1ft (0.3048m), 2ft (0.6096m), and 3ft (0.9144m) for area of interest using tidal variability surface.</u>"
   ]
  },
  {
   "cell_type": "code",
   "execution_count": 20,
   "metadata": {},
   "outputs": [
    {
     "name": "stdout",
     "output_type": "stream",
     "text": [
      "Processed SLR = 0.3048m, saved as z:\\MP\\Scratch\\SLR_Inundation_1ft.tif\n",
      "Processed SLR = 0.6096m, saved as z:\\MP\\Scratch\\SLR_Inundation_2ft.tif\n",
      "Processed SLR = 0.9144m, saved as z:\\MP\\Scratch\\SLR_Inundation_3ft.tif\n"
     ]
    }
   ],
   "source": [
    "# Load necessary packages \n",
    "import arcpy\n",
    "from arcpy.ia import *\n",
    "from arcpy.sa import *\n",
    "import os\n",
    "\n",
    "# Allow outputs to be overwritten\n",
    "arcpy.env.overwriteOutput = True\n",
    "\n",
    "# Check out any necessary licenses.\n",
    "arcpy.CheckOutExtension(\"3D\")\n",
    "arcpy.CheckOutExtension(\"spatial\")\n",
    "arcpy.CheckOutExtension(\"ImageAnalyst\")\n",
    "\n",
    "# Create function to iterate through SLR of 1-3ft\n",
    "SLR_values = [0.3048, 0.6096, 0.9144]\n",
    "\n",
    "# Convert to feet \n",
    "SLR_names = {0.3048: \"1ft\", 0.6096: \"2ft\", 0.9144: \"3ft\"}\n",
    "\n",
    "# Create a function to process inundation for all SLR values \n",
    "def process_inundation(SLR_value, DEM_1m, output_directory) :\n",
    "    # Add SLR amount to surface \n",
    "    surface_raster = Raster(DEM_1m) + SLR_value\n",
    "    surface_raster_output = os.path.join(output_directory, f'surface_{SLR_value}m.tif')\n",
    "    surface_raster.save(surface_raster_output)\n",
    "\n",
    "    # Load ground DEM as Raster \n",
    "    input_con = Raster(DEM_1m)\n",
    "\n",
    "    # Raster Calculator - create single value DEM to show inundation extent\n",
    "    single = Con(input_con <= surface_raster, 1)\n",
    "    single_output = os.path.join(output_directory, f'single_{SLR_value}m.tif')\n",
    "    single.save(single_output)\n",
    "\n",
    "    # Region Group - Evaluate connectivity of extent raster using region group\n",
    "    clumped = arcpy.sa.RegionGroup(single, \"EIGHT\", \"WITHIN\", \"NO_LINK\", None)\n",
    "    clumped_output = os.path.join(output_directory, f'clumped_{SLR_value}m.tif')\n",
    "    clumped.save(clumped_output)\n",
    "\n",
    "    # Extract by Attributes - Extract connected inundation surface to be used as a mask for the original depth grid\n",
    "    lowlying = arcpy.sa.ExtractByAttributes(clumped, \"Count < 1000000\")\n",
    "    lowlying_output = os.path.join(output_directory, f'lowlying_{SLR_value}m.tif')\n",
    "    lowlying.save(lowlying_output)\n",
    "\n",
    "    # Raster Calculator (2) - Subtract DEM values from water surface to derive initial inundatino depth grid\n",
    "    depth =  Con(input_con <= surface_raster, surface_raster - input_con) \n",
    "    depth_output = os.path.join(output_directory, f'depth_{SLR_value}m.tif')\n",
    "    depth.save(depth_output)\n",
    "    \n",
    "    # Extract by Attributes (2) - Derive low-lying areas \n",
    "    connect = arcpy.sa.ExtractByAttributes(clumped, \"Count > 1000000\")\n",
    "    connect_output = os.path.join(output_directory, f'connect_{SLR_value}m.tif')\n",
    "    connect.save(connect_output)\n",
    "\n",
    "    # Extract by Mask - Create depth grid for connected areas\n",
    "    SLR_in_feet = SLR_names[SLR_value]\n",
    "    con_depth = arcpy.sa.ExtractByMask(depth, connect)\n",
    "    con_depth_output = os.path.join(output_directory, f'SLR_Inundation_{SLR_in_feet}.tif')\n",
    "    con_depth.save(con_depth_output)\n",
    "\n",
    "    print(f\"Processed SLR = {SLR_value}m, saved as {con_depth_output}\")\n",
    "\n",
    "# Iterate through each SLR value (1ft, 2ft, 3ft)\n",
    "for SLR_value in SLR_values:\n",
    "    process_inundation(SLR_value, DEM_1m, output_directory)\n"
   ]
  },
  {
   "cell_type": "markdown",
   "metadata": {},
   "source": [
    "#### References \n",
    "\n",
    "#### Dobson, G., Johnson, I., Rhodes, K., Hutchins, M., & Chesnutt, M. (2019). Regional coastal resilience assessment: Methodology. National Fish and Wildlife Foundation. Retrieved November 21, 2024, from https://www.nfwf.org/sites/default/files/coastalresilience/Documents/regional-coastal-resilience-assessment.pdf\n",
    "\n",
    "#### National Oceanic and Atmospheric Administration. (2017, January). Sea level rise inundation methods: Technical documentation. NOAA Office for Coastal Management. Retrieved November 21, 2024, from https://coast.noaa.gov/data/digitalcoast/pdf/slr-inundation-methods.\n"
   ]
  }
 ],
 "metadata": {
  "kernelspec": {
   "display_name": "Python 3",
   "language": "python",
   "name": "python3"
  },
  "language_info": {
   "codemirror_mode": {
    "name": "ipython",
    "version": 3
   },
   "file_extension": ".py",
   "mimetype": "text/x-python",
   "name": "python",
   "nbconvert_exporter": "python",
   "pygments_lexer": "ipython3",
   "version": "3.11.8"
  }
 },
 "nbformat": 4,
 "nbformat_minor": 2
}
