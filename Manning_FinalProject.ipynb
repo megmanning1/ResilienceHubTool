{
 "cells": [
  {
   "cell_type": "markdown",
   "metadata": {},
   "source": [
    "# <u>Sea Level Rise Inundation Tool </u>\n",
    "\n",
    "#### Meg Manning -- *Duke University, Fall 2024*\n",
    "\n",
    "► **Description:** this script can be used to identify an area in the coastal plain of North Carolina and assess it's risk to sea level rise. This tool creates three layers of inundation under 1ft, 2ft, and 3ft of SLR. Methods for forecasting sea level rise inundation were taken from the National Oceanic and Atmospheric detailed methology for sea level rise inundation (NOAA, 2017). A threat index tool is in the process of being built to consider different environmental factors, coupled with SLR, including storm surge of category 1-5 hurricanes, flood prone areas, soil erodibility, drainage, and areas of low slope. This tool will use the National Fish and Wildlife Service's Coastal Resilience and Siting Tool (CREST) methodology for calculations (Dobson et al., 2019)."
   ]
  },
  {
   "cell_type": "markdown",
   "metadata": {},
   "source": [
    "### 1. Digital Elevation Model from LiDAR \n",
    "\n",
    "*Download LiDAR point data and process into a 1m DEM.*\n",
    "\n",
    "#### LiDAR data must be downloaded following these steps *prior* to running the rest of this script. \n",
    "\n",
    "<u> Step 1: Download LiDAR Data </u> \n",
    "\n",
    "Click the link below to open the Digital Coast Topobathy LiDAR Web Interface: https://coast.noaa.gov/dataviewer/#/lidar/search/ \n",
    "\n",
    "<u>Step 1.1:</u> Zoom in to a scale of at least 1000ft, if not 500ft, and draw a box around the area of interest\n",
    "\n",
    "<u>Step 1.2:</u> In the panel on the right, select the most recent *point* data that corresponds to the area of interest\n",
    "\n",
    "<u>Step 1.3:</u> Click \"Add to Cart\" \n",
    "\n",
    "<u>Step 1.4:</u> In your cart, set the following parameters for your point data:\n",
    "* Projection = UTM\n",
    "* Zone = Zone 18 Range 078W-072W\n",
    "* Horizontal Datum = NAD83\n",
    "* Horizontal Units = Meters\n",
    "* Vertical Datum = NADV88\n",
    "* Vertical Units = Meters\n",
    "* Output Product = Point\n",
    "* Output Format = Points - LAS\n",
    "* Data Classes = Ground \n",
    "\n",
    "<u>Step 1.5:</u> Click next, add email, review and submit\n",
    "\n",
    "*It may take a few minutes for the data to process but you will recieve an email with the link to download the data. Once it downloads, extract the data to your machine and note the file path.*\n",
    "\n",
    "<u> Step 2: Process into a 1m DEM</u> "
   ]
  },
  {
   "cell_type": "code",
   "execution_count": 1,
   "metadata": {},
   "outputs": [],
   "source": [
    "# Load Necessary Packages\n",
    "import arcpy\n",
    "import os\n",
    "from arcpy.ia import *\n",
    "from arcpy.sa import *\n",
    "\n",
    "# Set the workspace \n",
    "#output_directory = arcpy.GetParameterAsText(0)\n",
    "output_directory = arcpy.env.workspace = \"z:\\MP\\Scratch\" # THIS NEEDS TO BE USER INPUT\n",
    "arcpy.env.overwriteOutput = True"
   ]
  },
  {
   "cell_type": "code",
   "execution_count": 2,
   "metadata": {},
   "outputs": [],
   "source": [
    "# Define LAS data and LAS dataset paths \n",
    "# las_folder = arcpy.GetParameterAsText(1) \n",
    "# las_dataset = arcpy.GetParameterAsText(2) \n",
    "las_folder = \"z://MP//DATA//Lidar//nc2019_dunex_Job1104540\"\n",
    "las_dataset = \"z://MP//DATA//Lidar//nc2019_dunex_Job1104540//nc2019_dunex_Job1104540.lasd\"\n",
    "\n",
    "# Create a LAS Dataset using Create LAS Dataset Tool \n",
    "arcpy.management.CreateLasDataset(las_folder, las_dataset)\n",
    "arcpy.AddMessage(f\"LAS Dataset successfully created.\")"
   ]
  },
  {
   "cell_type": "code",
   "execution_count": 3,
   "metadata": {},
   "outputs": [],
   "source": [
    "# Define output raster (DEM) path \n",
    "ground_DEM_output = output_directory + \"DEM_1m.tif\""
   ]
  },
  {
   "cell_type": "code",
   "execution_count": 4,
   "metadata": {},
   "outputs": [
    {
     "data": {
      "text/html": [
       "<div class='gpresult'><h2>Messages</h2><div id='messages'>Start Time: Friday, December 6, 2024 10:27:22 AM<br>Succeeded at Friday, December 6, 2024 10:27:24 AM (Elapsed Time: 2.23 seconds)<br></div><div id = 'default' /></div></div>"
      ],
      "text/plain": [
       "<Result 'z:\\\\MP\\\\ScratchDEM_1m.tif'>"
      ]
     },
     "execution_count": 4,
     "metadata": {},
     "output_type": "execute_result"
    }
   ],
   "source": [
    "# Create 1m DEM using LAS Dataset to Raster tool \n",
    "arcpy.conversion.LasDatasetToRaster(las_dataset, ground_DEM_output, \n",
    "                                    'ELEVATION', \n",
    "                                    'BINNING AVERAGE LINEAR', \n",
    "                                    'FLOAT', \n",
    "                                    'CELLSIZE', 1, 1)"
   ]
  },
  {
   "cell_type": "code",
   "execution_count": 5,
   "metadata": {},
   "outputs": [],
   "source": [
    "DEM_1m = Raster(ground_DEM_output)"
   ]
  },
  {
   "cell_type": "markdown",
   "metadata": {},
   "source": [
    "### 2. Tidal Variability Surface Using Vertical Datum Tool\n",
    "\n",
    "*Use the DEM created above to create a tidal surface raster that shows the tidal fluctuations at the area of interest. Once this is created then sea level rise inundation can be calculated.*\n",
    "\n",
    "https://vdatum.noaa.gov/docs/services.html#step120"
   ]
  },
  {
   "cell_type": "code",
   "execution_count": 37,
   "metadata": {},
   "outputs": [],
   "source": [
    "import arcpy\n",
    "from arcgis.gis import GIS\n",
    "from arcgis.raster import Raster\n",
    "import os\n",
    "import rasterio \n",
    "from arcgis.raster import Raster as AG_Raster\n",
    "from arcpy.sa import Raster as ARCPY_Raster"
   ]
  },
  {
   "cell_type": "code",
   "execution_count": 36,
   "metadata": {},
   "outputs": [],
   "source": [
    "# Authenticate ArcGIS Online Account\n",
    "gis = GIS(\"home\")"
   ]
  },
  {
   "cell_type": "code",
   "execution_count": null,
   "metadata": {},
   "outputs": [],
   "source": [
    "# For user input \n",
    "# gis = GIS(\"https://www.arcgis.com\", \"username\", \"password\")"
   ]
  },
  {
   "cell_type": "code",
   "execution_count": 38,
   "metadata": {},
   "outputs": [],
   "source": [
    "# Load tidal surface grid from NOAA VDatum \n",
    "tidal_url = \"https://chs.coast.noaa.gov/htdata/Inundation/SLR/BulkDownload/Tidal_Surfaces/NC_MHHW_GCS_50m_NAVDm.tif\"\n",
    "tidal_raster = Raster(tidal_url)"
   ]
  },
  {
   "cell_type": "code",
   "execution_count": 49,
   "metadata": {},
   "outputs": [
    {
     "data": {
      "text/plain": [
       "'z:\\\\MP\\\\Scratch\\\\tidal_raster.tif'"
      ]
     },
     "execution_count": 49,
     "metadata": {},
     "output_type": "execute_result"
    }
   ],
   "source": [
    "# Create output file \n",
    "tidal_raster_path = os.path.join(output_directory, \"tidal_raster.tif\")\n",
    "tidal_raster_path"
   ]
  },
  {
   "cell_type": "code",
   "execution_count": null,
   "metadata": {},
   "outputs": [
    {
     "data": {
      "text/plain": [
       "'409559.95 3884014.19 411423.95 3885553.19'"
      ]
     },
     "execution_count": 73,
     "metadata": {},
     "output_type": "execute_result"
    }
   ],
   "source": [
    "# Get the bounding box of the ground DEM to clip to this extent \n",
    "desc = arcpy.Describe(DEM_1m)\n",
    "extent = desc.extent\n",
    "xmin = extent.XMin\n",
    "xmax = extent.XMax\n",
    "ymin = extent.YMin\n",
    "ymax = extent.YMax\n",
    "\n",
    "#Save extent to a bounding extent\n",
    "rectangle_extent = f\"{xmin}, {ymin}, {xmax}, {ymax}\"\n",
    "rectangle_extent_clip = f\"{xmin} {ymin} {xmax} {ymax}\""
   ]
  },
  {
   "cell_type": "code",
   "execution_count": 53,
   "metadata": {},
   "outputs": [],
   "source": [
    "# Use ExtractByRectangle to export raster to local file\n",
    "extracted_tidal_raster = arcpy.sa.ExtractByRectangle(tidal_raster_path, \n",
    "                                                     rectangle_extent)"
   ]
  },
  {
   "cell_type": "code",
   "execution_count": null,
   "metadata": {},
   "outputs": [],
   "source": [
    "# Convert the arcgis.raster._layer.Raster object into a arcpy.sa.Raster local object\n",
    "extracted_tidal_raster.save(tidal_raster_path)"
   ]
  },
  {
   "cell_type": "code",
   "execution_count": 57,
   "metadata": {},
   "outputs": [],
   "source": [
    "#Reload the tidal raster as a spatial raster for geoprocessing \n",
    "tidal_raster_sa = ARCPY_Raster(tidal_raster_path)"
   ]
  },
  {
   "cell_type": "code",
   "execution_count": 58,
   "metadata": {},
   "outputs": [
    {
     "data": {
      "text/plain": [
       "arcpy.sa.Raster.Raster"
      ]
     },
     "execution_count": 58,
     "metadata": {},
     "output_type": "execute_result"
    }
   ],
   "source": [
    "type(tidal_raster_sa)"
   ]
  },
  {
   "cell_type": "code",
   "execution_count": 65,
   "metadata": {},
   "outputs": [
    {
     "data": {
      "text/html": [
       "<div class='gpresult'><h2>Messages</h2><div id='messages'>Start Time: Friday, December 6, 2024 11:07:29 AM<br>Building Pyramids...<br>Succeeded at Friday, December 6, 2024 11:07:34 AM (Elapsed Time: 4.43 seconds)<br></div><div id = 'default' /></div></div>"
      ],
      "text/plain": [
       "<Result 'z:\\\\MP\\\\Scratch\\\\tidal_raster_NAD83.tif'>"
      ]
     },
     "execution_count": 65,
     "metadata": {},
     "output_type": "execute_result"
    }
   ],
   "source": [
    "# Project this into WKID 6347 - same as DEM layer\n",
    "tidal_projected_output = os.path.join(output_directory, \"tidal_raster_NAD83.tif\")\n",
    "UTM_NAD83 = arcpy.SpatialReference(6347)\n",
    "\n",
    "# Project tidal raster to new crs\n",
    "arcpy.management.ProjectRaster(tidal_raster_sa,\n",
    "                               tidal_projected_output,\n",
    "                               UTM_NAD83)"
   ]
  },
  {
   "cell_type": "code",
   "execution_count": 66,
   "metadata": {},
   "outputs": [],
   "source": [
    "# Create raster output\n",
    "tidal_NAD83_raster = ARCPY_Raster(tidal_projected_output)"
   ]
  },
  {
   "cell_type": "code",
   "execution_count": null,
   "metadata": {},
   "outputs": [
    {
     "name": "stdout",
     "output_type": "stream",
     "text": [
      "<geoprocessing spatial reference object object at 0x00000288678409B0> <geoprocessing spatial reference object object at 0x0000028867843F90>\n"
     ]
    }
   ],
   "source": [
    "# Check CRS of both rasters \n",
    "#print(tidal_NAD83_raster.spatialReference, DEM_1m.spatialReference)"
   ]
  },
  {
   "cell_type": "code",
   "execution_count": null,
   "metadata": {},
   "outputs": [],
   "source": [
    "# Set local parameters \n",
    "tidal_clip_output = os.path.join(output_directory, \"tidal_raster_clip.tif\")"
   ]
  },
  {
   "cell_type": "code",
   "execution_count": 74,
   "metadata": {},
   "outputs": [],
   "source": [
    "# Clip tidal raster to area of interest\n",
    "arcpy.management.Clip(in_raster=tidal_NAD83_raster, \n",
    "                      rectangle=rectangle_extent_clip, \n",
    "                      out_raster=tidal_clip_output, \n",
    "                      in_template_dataset=DEM_1m, \n",
    "                      nodata_value=\"-3.402823e+38\", \n",
    "                      clipping_geometry=\"NONE\", \n",
    "                      maintain_clipping_extent=\"NO_MAINTAIN_EXTENT\")\n",
    "\n",
    "tidal_clip = ARCPY_Raster(tidal_clip_output)"
   ]
  },
  {
   "cell_type": "code",
   "execution_count": 102,
   "metadata": {},
   "outputs": [],
   "source": [
    "# load preprocessed tidal surface for test to see if model works \n",
    "tidal_test = Raster(\"z:\\MP\\DATA\\Tidal_Surface\\SP_tidalsurface.tif\")\n",
    "type(tidal_test)\n",
    "DEM_clip_test = os.path.join(output_directory, \"DEM_tidal_clip.tif\")"
   ]
  },
  {
   "cell_type": "code",
   "execution_count": 94,
   "metadata": {},
   "outputs": [],
   "source": [
    "# Get the bounding box of the ground DEM to clip to this extent \n",
    "desc = arcpy.Describe(tidal_test)\n",
    "extent = desc.extent\n",
    "xmin = extent.XMin\n",
    "xmax = extent.XMax\n",
    "ymin = extent.YMin\n",
    "ymax = extent.YMax\n",
    "\n",
    "#Save extent to a bounding extent\n",
    "tidal_extent_clip = f\"{xmin} {ymin} {xmax} {ymax}\""
   ]
  },
  {
   "cell_type": "code",
   "execution_count": 103,
   "metadata": {},
   "outputs": [],
   "source": [
    "#Clip tidal raster to preprocessed tidal surface raster for test \n",
    "arcpy.management.Clip(in_raster=DEM_1m, \n",
    "                      rectangle=tidal_extent_clip, \n",
    "                      out_raster=DEM_clip_test, \n",
    "                      in_template_dataset=tidal_test, \n",
    "                      nodata_value=\"-3.402823e+38\", \n",
    "                      clipping_geometry=\"NONE\", \n",
    "                      maintain_clipping_extent=\"NO_MAINTAIN_EXTENT\")\n",
    "\n",
    "tidal_test_clip = Raster(DEM_clip_test)"
   ]
  },
  {
   "cell_type": "code",
   "execution_count": 104,
   "metadata": {},
   "outputs": [
    {
     "data": {
      "text/plain": [
       "'z:\\\\MP\\\\Scratch\\\\DEM_tidal_clip.tif'"
      ]
     },
     "execution_count": 104,
     "metadata": {},
     "output_type": "execute_result"
    }
   ],
   "source": [
    "DEM_clip_test"
   ]
  },
  {
   "cell_type": "markdown",
   "metadata": {},
   "source": [
    "https://github.com/noaa-ocs-hydrography/vyperdatum/blob/main/vyperdatum/points.py\n",
    "https://coast.noaa.gov/slrdata/Tidal_Surfaces/URLlist_Tidal_Surfaces.txt\n",
    "https://vdatum.noaa.gov/docs/gtx_info.html"
   ]
  },
  {
   "cell_type": "markdown",
   "metadata": {},
   "source": [
    "### 3. Inundation Extent under 1-3ft SLR\n",
    "\n",
    "*Use both the DEM in step 1 and the tidal variabliity surface in step 2 to model the desired amount of sea level rise at 1 meter resolution on top of the area of interest. For detailed methods see Detailed Method for Mapping Sea Level Rise Inundation (NOAA, 2017).*"
   ]
  },
  {
   "cell_type": "markdown",
   "metadata": {},
   "source": [
    "<u> Iterate through sea level rise of 1ft (0.3048m), 2ft (0.6096m), and 3ft (0.9144m) for area of interest using tidal variability surface.</u>"
   ]
  },
  {
   "cell_type": "code",
   "execution_count": 105,
   "metadata": {},
   "outputs": [
    {
     "name": "stdout",
     "output_type": "stream",
     "text": [
      "Processed SLR = 0.3048m, saved as z:\\MP\\Scratch\\SLR_Inundation_1ft.tif\n",
      "Processed SLR = 0.6096m, saved as z:\\MP\\Scratch\\SLR_Inundation_2ft.tif\n",
      "Processed SLR = 0.9144m, saved as z:\\MP\\Scratch\\SLR_Inundation_3ft.tif\n"
     ]
    }
   ],
   "source": [
    "# Load necessary packages \n",
    "import arcpy\n",
    "from arcpy.ia import *\n",
    "from arcpy.sa import *\n",
    "import os\n",
    "\n",
    "# Allow outputs to be overwritten\n",
    "arcpy.env.overwriteOutput = True\n",
    "\n",
    "# Check out any necessary licenses.\n",
    "arcpy.CheckOutExtension(\"3D\")\n",
    "arcpy.CheckOutExtension(\"spatial\")\n",
    "arcpy.CheckOutExtension(\"ImageAnalyst\")\n",
    "\n",
    "# Create function to iterate through SLR of 1-3ft\n",
    "SLR_values = [0.3048, 0.6096, 0.9144]\n",
    "\n",
    "# Convert to feet \n",
    "SLR_names = {0.3048: \"1ft\", 0.6096: \"2ft\", 0.9144: \"3ft\"}\n",
    "\n",
    "# Load local tidal surface in \n",
    "\n",
    "# Create a function to process inundation for all SLR values \n",
    "def process_inundation(SLR_value, DEM_clip_test, output_directory) :\n",
    "    # Add SLR amount to surface \n",
    "    surface_raster = tidal_test + SLR_value\n",
    "    surface_raster_output = os.path.join(output_directory, f'surface_{SLR_value}m.tif')\n",
    "    surface_raster.save(surface_raster_output)\n",
    "\n",
    "    # Load ground DEM as Raster \n",
    "    input_con = DEM_clip_test\n",
    "\n",
    "    # Raster Calculator - create single value DEM to show inundation extent\n",
    "    single = Con(input_con <= surface_raster, 1)\n",
    "    single_output = os.path.join(output_directory, f'single_{SLR_value}m.tif')\n",
    "    single.save(single_output)\n",
    "\n",
    "    # Region Group - Evaluate connectivity of extent raster using region group\n",
    "    clumped = arcpy.sa.RegionGroup(single, \"EIGHT\", \"WITHIN\", \"NO_LINK\", None)\n",
    "    clumped_output = os.path.join(output_directory, f'clumped_{SLR_value}m.tif')\n",
    "    clumped.save(clumped_output)\n",
    "\n",
    "    # Extract by Attributes - Extract connected inundation surface to be used as a mask for the original depth grid\n",
    "    lowlying = arcpy.sa.ExtractByAttributes(clumped, \"Count < 10000\")\n",
    "    lowlying_output = os.path.join(output_directory, f'lowlying_{SLR_value}m.tif')\n",
    "    lowlying.save(lowlying_output)\n",
    "\n",
    "    # Raster Calculator (2) - Subtract DEM values from water surface to derive initial inundatino depth grid\n",
    "    depth =  Con(input_con <= surface_raster, surface_raster - input_con) \n",
    "    depth_output = os.path.join(output_directory, f'depth_{SLR_value}m.tif')\n",
    "    depth.save(depth_output)\n",
    "    \n",
    "    # Extract by Attributes (2) - Derive low-lying areas \n",
    "    connect = arcpy.sa.ExtractByAttributes(clumped, \"Count > 10000\")\n",
    "    connect_output = os.path.join(output_directory, f'connect_{SLR_value}m.tif')\n",
    "    connect.save(connect_output)\n",
    "\n",
    "    # Extract by Mask - Create depth grid for connected areas\n",
    "    SLR_in_feet = SLR_names[SLR_value]\n",
    "    con_depth = arcpy.sa.ExtractByMask(depth, connect)\n",
    "    con_depth_output = os.path.join(output_directory, f'SLR_Inundation_{SLR_in_feet}.tif')\n",
    "    con_depth.save(con_depth_output)\n",
    "\n",
    "    print(f\"Processed SLR = {SLR_value}m, saved as {con_depth_output}\")\n",
    "\n",
    "# Iterate through each SLR value (1ft, 2ft, 3ft)\n",
    "for SLR_value in SLR_values:\n",
    "    process_inundation(SLR_value, DEM_clip_test, output_directory)\n"
   ]
  },
  {
   "cell_type": "markdown",
   "metadata": {},
   "source": [
    "#### References \n",
    "\n",
    "#### Dobson, G., Johnson, I., Rhodes, K., Hutchins, M., & Chesnutt, M. (2019). Regional coastal resilience assessment: Methodology. National Fish and Wildlife Foundation. Retrieved November 21, 2024, from https://www.nfwf.org/sites/default/files/coastalresilience/Documents/regional-coastal-resilience-assessment.pdf\n",
    "\n",
    "#### National Oceanic and Atmospheric Administration. (2017, January). Sea level rise inundation methods: Technical documentation. NOAA Office for Coastal Management. Retrieved November 21, 2024, from https://coast.noaa.gov/data/digitalcoast/pdf/slr-inundation-methods.\n"
   ]
  }
 ],
 "metadata": {
  "kernelspec": {
   "display_name": "Python 3",
   "language": "python",
   "name": "python3"
  },
  "language_info": {
   "codemirror_mode": {
    "name": "ipython",
    "version": 3
   },
   "file_extension": ".py",
   "mimetype": "text/x-python",
   "name": "python",
   "nbconvert_exporter": "python",
   "pygments_lexer": "ipython3",
   "version": "3.11.8"
  }
 },
 "nbformat": 4,
 "nbformat_minor": 2
}
