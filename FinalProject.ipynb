{
 "cells": [
  {
   "cell_type": "markdown",
   "metadata": {},
   "source": [
    "# <u>Sea Level Rise Threat Index Tool </u>\n",
    "\n",
    "#### Meg Manning -- *Duke University, Fall 2024*\n",
    "\n",
    "► **Description:** this script can be used to identify an area in the coastal plain of North Carolina and assess it's risk to sea level rise. The overall threat index is calculated through combining the ranked exposure of inundation under 1ft, 2ft, and 3ft of sea level rise, flood prone areas, storm surge under category 1-5 hurricanes, soil erodibility, soil drainage, and areas of low slope for a given area of interest. Methods for forecasting sea level rise inundation were taken from the National Oceanic and Atmospheric detailed methology for sea level rise inundation (NOAA, 2017) and the overall threat index was modelled after the National Fish and Wildlife Service's Coastal Resilience and Siting Tool (CREST) (Dobson et al., 2019)."
   ]
  },
  {
   "cell_type": "markdown",
   "metadata": {},
   "source": [
    "### 1. Digital Elevation Model from LiDAR \n",
    "\n",
    "*Download LiDAR point data and process into a 1m DEM.*\n",
    "\n",
    "#### Since there is no API for a direct download of LiDAR point data, in order to process the rest of this script, data must be downloaded following these steps *prior* to running the rest of this script. \n",
    "\n",
    "<u> Step 1: Download LiDAR Data </u> \n",
    "\n",
    "Click the link below to open the Digital Coast Topobathy LiDAR Web Interface: https://coast.noaa.gov/dataviewer/#/lidar/search/ \n",
    "\n",
    "<u>Step 1.1:</u> Zoom in to a scale of at least 1000ft, if not 500ft, and draw a box around the area of interst\n",
    "\n",
    "<u>Step 1.2:</u> In the panel on the right, select the most recent *point* data that corresponds to the area of interest\n",
    "\n",
    "<u>Step 1.3:</u> Click \"Add to Cart\" \n",
    "\n",
    "<u>Step 1.4:</u> In your cart, set the following parameters for your point data:\n",
    "* Projection = UTM\n",
    "* Zone = Zone 18 Range 078W-072W\n",
    "* Horizontal Datum = NAD83\n",
    "* Horizontal Units = Meters\n",
    "* Vertical Datum = NADV88\n",
    "* Vertical Units = Meters\n",
    "* Output Product = Point\n",
    "* Output Format = Points - LAS\n",
    "* Data Classes = Ground \n",
    "\n",
    "<u>Step 1.5:</u> Click next, add email, review and submit\n",
    "\n",
    "*It may take a few minutes for the data to process but you will recieve an email with the link to download the data. Once it downloads, extract the data to your machine and note the file path.*\n",
    "\n",
    "<u> Step 2: Process into a 1m DEM</u> "
   ]
  },
  {
   "cell_type": "code",
   "execution_count": null,
   "metadata": {},
   "outputs": [],
   "source": [
    "# Load Necessary Packages\n",
    "import arcpy\n",
    "import os\n",
    "\n",
    "# Set the workspace \n",
    "#arcpy.env.workspace = \"C:/path_to_lidar_data\"\n",
    "arcpy.env.workspace = \"C:/Users/mgm79/Downloads/nc2019_dunex_Job1099351\"\n",
    "arcpy.env.overwriteOutput = True"
   ]
  },
  {
   "cell_type": "code",
   "execution_count": 2,
   "metadata": {},
   "outputs": [
    {
     "data": {
      "text/html": [
       "<div class='gpresult'><h2>Messages</h2><div id='messages'>Start Time: Saturday, November 23, 2024 4:26:50 PM<br>Succeeded at Saturday, November 23, 2024 4:26:50 PM (Elapsed Time: 0.08 seconds)<br></div><div id = 'default' /></div></div>"
      ],
      "text/plain": [
       "<Result 'C:\\\\Users\\\\mgm79\\\\Downloads\\\\nc2019_dunex_Job1099351\\\\nc2019_dunex_Job1099351.lasd'>"
      ]
     },
     "execution_count": 2,
     "metadata": {},
     "output_type": "execute_result"
    }
   ],
   "source": [
    "# Define LAS data and LAS dataset paths \n",
    "#**Can I make these user inputs?**\n",
    "#las_folder = \"C:/path_to_lidar_data\"\n",
    "#las_dataset = \"C:/path_to_lidar_data/las_dataset.lasd\"\n",
    "las_folder = \"C:/Users/mgm79/Downloads/nc2019_dunex_Job1099351\"\n",
    "las_dataset = \"C:/Users/mgm79/Downloads/nc2019_dunex_Job1099351/nc2019_dunex_Job1099351.lasd\"\n",
    "\n",
    "# Create a LAS Dataset using Create LAS Dataset Tool \n",
    "arcpy.management.CreateLasDataset(las_folder, las_dataset)"
   ]
  },
  {
   "cell_type": "code",
   "execution_count": 25,
   "metadata": {},
   "outputs": [
    {
     "data": {
      "text/html": [
       "<div class='gpresult'><h2>Messages</h2><div id='messages'>Start Time: Saturday, November 23, 2024 5:22:05 PM<br>Succeeded at Saturday, November 23, 2024 5:22:07 PM (Elapsed Time: 1.18 seconds)<br></div><div id = 'default' /></div></div>"
      ],
      "text/plain": [
       "<Result 'C:\\\\Users\\\\mgm79\\\\Downloads\\\\nc2019_dunex_Job1099351\\\\DEM_1m.tif'>"
      ]
     },
     "execution_count": 25,
     "metadata": {},
     "output_type": "execute_result"
    }
   ],
   "source": [
    "# Define output raster (DEM) path \n",
    "ground_DEM = \"C:/Users/mgm79/Downloads/nc2019_dunex_Job1099351/DEM_1m.tif\"\n",
    "\n",
    "# Create 1m DEM using LAS Dataset to Raster tool \n",
    "arcpy.conversion.LasDatasetToRaster(las_dataset, ground_DEM, \n",
    "                                    'ELEVATION', \n",
    "                                    'BINNING AVERAGE LINEAR', \n",
    "                                    'FLOAT', \n",
    "                                    'CELLSIZE', 1, 1)\n"
   ]
  },
  {
   "cell_type": "markdown",
   "metadata": {},
   "source": [
    "### 2. Tidal Variability Surface Using Vertical Datum Tool\n",
    "\n",
    "*Use DEM created above to create a tidal surface raster that shows the tidal fluctuations at the area of interest. Once this is created then sea level rise inundation can be calculated.*"
   ]
  },
  {
   "cell_type": "code",
   "execution_count": null,
   "metadata": {},
   "outputs": [],
   "source": [
    "# Create Points from DEM to input into VDatum tool to get conversion from MHHW into NAVD88\n",
    "\n",
    "# Raster to Point - set local variables \n",
    "in_DEM = ground_DEM\n",
    "out_point_features = 'DEM_points.shp'\n",
    "field = \"VALUE\"\n",
    "\n",
    "# Run the tool\n",
    "# arcpy.conversion.RasterToPoint(in_DEM, out_point_features, field)\n",
    "\n",
    "#IS THERE AN EASIER WAY TO DO THIS?"
   ]
  },
  {
   "cell_type": "markdown",
   "metadata": {},
   "source": [
    "### 3. Calculate Inundation Extent under Desired SLR Amount\n",
    "\n",
    "*Use both the DEM in step 1 and the tidal variabliity surface in step 2 to model the desired amount of sea level rise at 1 meter resolution on top of the area of interest. For detailed methods see Deatiled Method for Mappnig Sea Level Rise Inundation (NOAA, 2017).*"
   ]
  },
  {
   "cell_type": "markdown",
   "metadata": {},
   "source": [
    "<u> Step 3.1: Add desired SLR amount to tidal raster </u>"
   ]
  },
  {
   "cell_type": "code",
   "execution_count": null,
   "metadata": {},
   "outputs": [
    {
     "data": {
      "text/plain": [
       "'../Scratch/surface.tif'"
      ]
     },
     "execution_count": 38,
     "metadata": {},
     "output_type": "execute_result"
    }
   ],
   "source": [
    "import arcpy\n",
    "from arcpy.ia import *\n",
    "from arcpy.sa import *\n",
    "\n",
    "# Allow outputs to be overwritten\n",
    "arcpy.env.overwriteOutput = True\n",
    "\n",
    "# Check out any necessary licenses.\n",
    "arcpy.CheckOutExtension(\"3D\")\n",
    "arcpy.CheckOutExtension(\"spatial\")\n",
    "arcpy.CheckOutExtension(\"ImageAnalyst\")\n",
    "\n",
    "# Set local variables\n",
    "ground_DEM = \"C:/Users/mgm79/Downloads/nc2019_dunex_Job1099351/DEM_1m.tif\"\n",
    "#tidal_raster = arcpy.Raster(\"tidal_variability.tif\")\n",
    "SLR_1ft = 0.3048 \n",
    "SLR_2ft = 0.6096\n",
    "SLR_3ft = 0.9144 \n",
    "surface_raster = '../Scratch/surface.tif'\n",
    "\n",
    "# Execute Plus tool \n",
    "arcpy.ddd.Plus(in_raster_or_constant1=ground_DEM, \n",
    "               in_raster_or_constant2=SLR_1ft, \n",
    "               out_raster=surface_raster)\n"
   ]
  },
  {
   "cell_type": "markdown",
   "metadata": {},
   "source": [
    "<u> Step 3.2: Subtract DEM values from water surface to derive initial inundatino depth grid </u>"
   ]
  },
  {
   "cell_type": "code",
   "execution_count": null,
   "metadata": {},
   "outputs": [],
   "source": [
    "single = \"../Scratch/single.tif\"\n",
    "Raster_Calculator_1 = single\n",
    "single =  Con(ground_DEM <= surface_raster, 1)\n",
    "single.save(Raster_Calculator_1)\n"
   ]
  },
  {
   "cell_type": "code",
   "execution_count": null,
   "metadata": {},
   "outputs": [],
   "source": [
    "# Change the working environment to where rasters are saved\n",
    "# Add user input for this? arcpy.env.workspace = \"C:/Users/mgm79/Downloads/nc2019_dunex_Job1099351\"\n",
    "from arcpy import sa\n",
    "\n",
    "# Set local variables\n",
    "#tidal_DEM \n",
    "#DEM_output \n",
    "SLR_1ft = 0.3048 \n",
    "SLR_2ft = 0.6096\n",
    "SLR_3ft = 0.9144 \n",
    "\n",
    "#output_plus = \"surface_SLR_1ft.tif\" #create this as a function of what the user inputs for SLR amount\n",
    "# Add desired amount of SLR to tidal variability raster  --> CAN THIS ALSO BE A USER INPUT?\n",
    "## Remember this will be in *meters* not feet\n",
    "\n",
    "# Plus tool \n",
    "outPlus = sa.Plus(ground_DEM, SLR_1ft)\n",
    "\n",
    "# Save the output\n",
    "outPlus.save('../Scratch/surface.tif')\n",
    "\n",
    "# View the new surface \n",
    "#outPlus"
   ]
  },
  {
   "cell_type": "markdown",
   "metadata": {},
   "source": [
    "#### References \n",
    "\n",
    "#### Dobson, G., Johnson, I., Rhodes, K., Hutchins, M., & Chesnutt, M. (2019). Regional coastal resilience assessment: Methodology. National Fish and Wildlife Foundation. Retrieved November 21, 2024, from https://www.nfwf.org/sites/default/files/coastalresilience/Documents/regional-coastal-resilience-assessment.pdf\n",
    "\n",
    "#### National Oceanic and Atmospheric Administration. (2017, January). Sea level rise inundation methods: Technical documentation. NOAA Office for Coastal Management. Retrieved November 21, 2024, from https://coast.noaa.gov/data/digitalcoast/pdf/slr-inundation-methods.pdf"
   ]
  }
 ],
 "metadata": {
  "kernelspec": {
   "display_name": "Python 3",
   "language": "python",
   "name": "python3"
  },
  "language_info": {
   "codemirror_mode": {
    "name": "ipython",
    "version": 3
   },
   "file_extension": ".py",
   "mimetype": "text/x-python",
   "name": "python",
   "nbconvert_exporter": "python",
   "pygments_lexer": "ipython3",
   "version": "3.11.8"
  }
 },
 "nbformat": 4,
 "nbformat_minor": 2
}
